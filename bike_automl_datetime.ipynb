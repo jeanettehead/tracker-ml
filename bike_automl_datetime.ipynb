{
 "cells": [
  {
   "cell_type": "code",
   "execution_count": 1,
   "metadata": {},
   "outputs": [],
   "source": [
    "%matplotlib inline\n",
    "\n",
    "import h2o\n",
    "from h2o.automl import H2OAutoML\n",
    "import matplotlib.pyplot as plt\n",
    "import numpy as np"
   ]
  },
  {
   "cell_type": "code",
   "execution_count": 2,
   "metadata": {},
   "outputs": [
    {
     "name": "stdout",
     "output_type": "stream",
     "text": [
      "Checking whether there is an H2O instance running at http://localhost:54321. connected.\n"
     ]
    },
    {
     "data": {
      "text/html": [
       "<div style=\"overflow:auto\"><table style=\"width:50%\"><tr><td>H2O cluster uptime:</td>\n",
       "<td>2 hours 51 mins</td></tr>\n",
       "<tr><td>H2O cluster timezone:</td>\n",
       "<td>America/Denver</td></tr>\n",
       "<tr><td>H2O data parsing timezone:</td>\n",
       "<td>UTC</td></tr>\n",
       "<tr><td>H2O cluster version:</td>\n",
       "<td>3.18.0.2</td></tr>\n",
       "<tr><td>H2O cluster version age:</td>\n",
       "<td>8 days </td></tr>\n",
       "<tr><td>H2O cluster name:</td>\n",
       "<td>H2O_from_python_jpitt_rbvdxg</td></tr>\n",
       "<tr><td>H2O cluster total nodes:</td>\n",
       "<td>1</td></tr>\n",
       "<tr><td>H2O cluster free memory:</td>\n",
       "<td>3.071 Gb</td></tr>\n",
       "<tr><td>H2O cluster total cores:</td>\n",
       "<td>8</td></tr>\n",
       "<tr><td>H2O cluster allowed cores:</td>\n",
       "<td>8</td></tr>\n",
       "<tr><td>H2O cluster status:</td>\n",
       "<td>locked, healthy</td></tr>\n",
       "<tr><td>H2O connection url:</td>\n",
       "<td>http://localhost:54321</td></tr>\n",
       "<tr><td>H2O connection proxy:</td>\n",
       "<td>None</td></tr>\n",
       "<tr><td>H2O internal security:</td>\n",
       "<td>False</td></tr>\n",
       "<tr><td>H2O API Extensions:</td>\n",
       "<td>XGBoost, Algos, AutoML, Core V3, Core V4</td></tr>\n",
       "<tr><td>Python version:</td>\n",
       "<td>3.6.4 final</td></tr></table></div>"
      ],
      "text/plain": [
       "--------------------------  ----------------------------------------\n",
       "H2O cluster uptime:         2 hours 51 mins\n",
       "H2O cluster timezone:       America/Denver\n",
       "H2O data parsing timezone:  UTC\n",
       "H2O cluster version:        3.18.0.2\n",
       "H2O cluster version age:    8 days\n",
       "H2O cluster name:           H2O_from_python_jpitt_rbvdxg\n",
       "H2O cluster total nodes:    1\n",
       "H2O cluster free memory:    3.071 Gb\n",
       "H2O cluster total cores:    8\n",
       "H2O cluster allowed cores:  8\n",
       "H2O cluster status:         locked, healthy\n",
       "H2O connection url:         http://localhost:54321\n",
       "H2O connection proxy:\n",
       "H2O internal security:      False\n",
       "H2O API Extensions:         XGBoost, Algos, AutoML, Core V3, Core V4\n",
       "Python version:             3.6.4 final\n",
       "--------------------------  ----------------------------------------"
      ]
     },
     "metadata": {},
     "output_type": "display_data"
    }
   ],
   "source": [
    "# constant random seed \n",
    "seed = 1234\n",
    "\n",
    "# Connect to a pre-existing cluster\n",
    "\n",
    "h2o.init()\n",
    "h2o.remove_all()"
   ]
  },
  {
   "cell_type": "code",
   "execution_count": 3,
   "metadata": {
    "scrolled": true
   },
   "outputs": [
    {
     "data": {
      "text/html": [
       "<div style=\"overflow:auto\"><table style=\"width:50%\"><tr><td>H2O cluster uptime:</td>\n",
       "<td>2 hours 51 mins</td></tr>\n",
       "<tr><td>H2O cluster timezone:</td>\n",
       "<td>America/Denver</td></tr>\n",
       "<tr><td>H2O data parsing timezone:</td>\n",
       "<td>UTC</td></tr>\n",
       "<tr><td>H2O cluster version:</td>\n",
       "<td>3.18.0.2</td></tr>\n",
       "<tr><td>H2O cluster version age:</td>\n",
       "<td>8 days </td></tr>\n",
       "<tr><td>H2O cluster name:</td>\n",
       "<td>H2O_from_python_jpitt_rbvdxg</td></tr>\n",
       "<tr><td>H2O cluster total nodes:</td>\n",
       "<td>1</td></tr>\n",
       "<tr><td>H2O cluster free memory:</td>\n",
       "<td>3.233 Gb</td></tr>\n",
       "<tr><td>H2O cluster total cores:</td>\n",
       "<td>8</td></tr>\n",
       "<tr><td>H2O cluster allowed cores:</td>\n",
       "<td>8</td></tr>\n",
       "<tr><td>H2O cluster status:</td>\n",
       "<td>locked, healthy</td></tr>\n",
       "<tr><td>H2O connection url:</td>\n",
       "<td>http://localhost:54321</td></tr>\n",
       "<tr><td>H2O connection proxy:</td>\n",
       "<td>None</td></tr>\n",
       "<tr><td>H2O internal security:</td>\n",
       "<td>False</td></tr>\n",
       "<tr><td>H2O API Extensions:</td>\n",
       "<td>XGBoost, Algos, AutoML, Core V3, Core V4</td></tr>\n",
       "<tr><td>Python version:</td>\n",
       "<td>3.6.4 final</td></tr></table></div>"
      ],
      "text/plain": [
       "--------------------------  ----------------------------------------\n",
       "H2O cluster uptime:         2 hours 51 mins\n",
       "H2O cluster timezone:       America/Denver\n",
       "H2O data parsing timezone:  UTC\n",
       "H2O cluster version:        3.18.0.2\n",
       "H2O cluster version age:    8 days\n",
       "H2O cluster name:           H2O_from_python_jpitt_rbvdxg\n",
       "H2O cluster total nodes:    1\n",
       "H2O cluster free memory:    3.233 Gb\n",
       "H2O cluster total cores:    8\n",
       "H2O cluster allowed cores:  8\n",
       "H2O cluster status:         locked, healthy\n",
       "H2O connection url:         http://localhost:54321\n",
       "H2O connection proxy:\n",
       "H2O internal security:      False\n",
       "H2O API Extensions:         XGBoost, Algos, AutoML, Core V3, Core V4\n",
       "Python version:             3.6.4 final\n",
       "--------------------------  ----------------------------------------"
      ]
     },
     "metadata": {},
     "output_type": "display_data"
    },
    {
     "name": "stdout",
     "output_type": "stream",
     "text": [
      "Parse progress: |█████████████████████████████████████████████████████████| 100%\n"
     ]
    }
   ],
   "source": [
    "from h2o.utils.shared_utils import _locate # private function. used to find files within h2o git project directory.\n",
    "\n",
    "h2o.cluster().show_status()\n",
    "\n",
    "df = h2o.import_file(path=_locate(\"train.csv\"))\n"
   ]
  },
  {
   "cell_type": "code",
   "execution_count": 4,
   "metadata": {
    "scrolled": false
   },
   "outputs": [
    {
     "name": "stdout",
     "output_type": "stream",
     "text": [
      "Rows:10885\n",
      "Cols:13\n",
      "\n",
      "\n"
     ]
    },
    {
     "data": {
      "text/html": [
       "<table>\n",
       "<thead>\n",
       "<tr><th>       </th><th>datetime           </th><th>season            </th><th>holiday            </th><th>workingday         </th><th>weather           </th><th>temp              </th><th>atemp             </th><th>humidity          </th><th>windspeed         </th><th>casual           </th><th>registered        </th><th>count             </th><th>previouscount     </th></tr>\n",
       "</thead>\n",
       "<tbody>\n",
       "<tr><td>type   </td><td>time               </td><td>int               </td><td>int                </td><td>int                </td><td>int               </td><td>real              </td><td>real              </td><td>int               </td><td>real              </td><td>int              </td><td>int               </td><td>int               </td><td>int               </td></tr>\n",
       "<tr><td>mins   </td><td>1293843600000.0    </td><td>1.0               </td><td>0.0                </td><td>0.0                </td><td>1.0               </td><td>0.82              </td><td>0.76              </td><td>0.0               </td><td>0.0               </td><td>0.0              </td><td>0.0               </td><td>1.0               </td><td>1.0               </td></tr>\n",
       "<tr><td>mean   </td><td>1324968241874.1387 </td><td>2.5067524115755626</td><td>0.02857142857142857</td><td>0.6809370693615067 </td><td>1.4184657785943962</td><td>20.2318144235186  </td><td>23.655934772622874</td><td>61.88470372071658 </td><td>12.800571281580158</td><td>36.02498851630684</td><td>155.5652733118971 </td><td>191.59026182820395</td><td>191.5836472209463 </td></tr>\n",
       "<tr><td>maxs   </td><td>1355958000000.0    </td><td>4.0               </td><td>1.0                </td><td>1.0                </td><td>4.0               </td><td>41.0              </td><td>45.455            </td><td>100.0             </td><td>56.9969           </td><td>367.0            </td><td>886.0             </td><td>977.0             </td><td>977.0             </td></tr>\n",
       "<tr><td>sigma  </td><td>18186077643.01126  </td><td>1.1161321529674035</td><td>0.16660627876431913</td><td>0.46613489303567057</td><td>0.6338550128938669</td><td>7.7913111304392215</td><td>8.474525070270193 </td><td>19.245045237309753</td><td>8.163990511234385 </td><td>49.96176892218166</td><td>151.03979036028676</td><td>181.14495703238546</td><td>181.15005452302242</td></tr>\n",
       "<tr><td>zeros  </td><td>0                  </td><td>0                 </td><td>10574              </td><td>3473               </td><td>0                 </td><td>0                 </td><td>0                 </td><td>22                </td><td>1312              </td><td>986              </td><td>15                </td><td>0                 </td><td>0                 </td></tr>\n",
       "<tr><td>missing</td><td>0                  </td><td>0                 </td><td>0                  </td><td>0                  </td><td>0                 </td><td>0                 </td><td>0                 </td><td>0                 </td><td>0                 </td><td>0                </td><td>0                 </td><td>0                 </td><td>0                 </td></tr>\n",
       "<tr><td>0      </td><td>2011-01-01 01:00:00</td><td>1.0               </td><td>0.0                </td><td>0.0                </td><td>1.0               </td><td>9.02              </td><td>13.635            </td><td>80.0              </td><td>0.0               </td><td>8.0              </td><td>32.0              </td><td>40.0              </td><td>16.0              </td></tr>\n",
       "<tr><td>1      </td><td>2011-01-01 02:00:00</td><td>1.0               </td><td>0.0                </td><td>0.0                </td><td>1.0               </td><td>9.02              </td><td>13.635            </td><td>80.0              </td><td>0.0               </td><td>5.0              </td><td>27.0              </td><td>32.0              </td><td>40.0              </td></tr>\n",
       "<tr><td>2      </td><td>2011-01-01 03:00:00</td><td>1.0               </td><td>0.0                </td><td>0.0                </td><td>1.0               </td><td>9.84              </td><td>14.395            </td><td>75.0              </td><td>0.0               </td><td>3.0              </td><td>10.0              </td><td>13.0              </td><td>32.0              </td></tr>\n",
       "<tr><td>3      </td><td>2011-01-01 04:00:00</td><td>1.0               </td><td>0.0                </td><td>0.0                </td><td>1.0               </td><td>9.84              </td><td>14.395            </td><td>75.0              </td><td>0.0               </td><td>0.0              </td><td>1.0               </td><td>1.0               </td><td>13.0              </td></tr>\n",
       "<tr><td>4      </td><td>2011-01-01 05:00:00</td><td>1.0               </td><td>0.0                </td><td>0.0                </td><td>2.0               </td><td>9.84              </td><td>12.88             </td><td>75.0              </td><td>6.0032            </td><td>0.0              </td><td>1.0               </td><td>1.0               </td><td>1.0               </td></tr>\n",
       "<tr><td>5      </td><td>2011-01-01 06:00:00</td><td>1.0               </td><td>0.0                </td><td>0.0                </td><td>1.0               </td><td>9.02              </td><td>13.635            </td><td>80.0              </td><td>0.0               </td><td>2.0              </td><td>0.0               </td><td>2.0               </td><td>1.0               </td></tr>\n",
       "<tr><td>6      </td><td>2011-01-01 07:00:00</td><td>1.0               </td><td>0.0                </td><td>0.0                </td><td>1.0               </td><td>8.2               </td><td>12.88             </td><td>86.0              </td><td>0.0               </td><td>1.0              </td><td>2.0               </td><td>3.0               </td><td>2.0               </td></tr>\n",
       "<tr><td>7      </td><td>2011-01-01 08:00:00</td><td>1.0               </td><td>0.0                </td><td>0.0                </td><td>1.0               </td><td>9.84              </td><td>14.395            </td><td>75.0              </td><td>0.0               </td><td>1.0              </td><td>7.0               </td><td>8.0               </td><td>3.0               </td></tr>\n",
       "<tr><td>8      </td><td>2011-01-01 09:00:00</td><td>1.0               </td><td>0.0                </td><td>0.0                </td><td>1.0               </td><td>13.12             </td><td>17.425            </td><td>76.0              </td><td>0.0               </td><td>8.0              </td><td>6.0               </td><td>14.0              </td><td>8.0               </td></tr>\n",
       "<tr><td>9      </td><td>2011-01-01 10:00:00</td><td>1.0               </td><td>0.0                </td><td>0.0                </td><td>1.0               </td><td>15.58             </td><td>19.695            </td><td>76.0              </td><td>16.9979           </td><td>12.0             </td><td>24.0              </td><td>36.0              </td><td>14.0              </td></tr>\n",
       "</tbody>\n",
       "</table>"
      ]
     },
     "metadata": {},
     "output_type": "display_data"
    }
   ],
   "source": [
    "df.describe()"
   ]
  },
  {
   "cell_type": "code",
   "execution_count": 5,
   "metadata": {},
   "outputs": [],
   "source": [
    "# Does preprocessing on the raw data frame\n",
    "def preprocess(df):\n",
    "    df_edited = df\n",
    "    for field in [\"registered\", \"casual\"]:\n",
    "        try:\n",
    "            df_edited = df_edited.drop(field)\n",
    "        except:\n",
    "            pass\n",
    "\n",
    "    # Do things with datetime\n",
    "    # df_edited['datetime'] = df_edited['datetime'].as_date()\n",
    "    df_edited['dayofweek'] = df_edited['datetime'].dayOfWeek()\n",
    "    df_edited['dayofmonth'] = df_edited['datetime'].day()\n",
    "    df_edited['hourofday'] = df_edited['datetime'].hour()\n",
    "    df_edited['year'] = df_edited['datetime'].year()\n",
    "    df_edited['month'] = df_edited['datetime'].month()\n",
    "\n",
    "    # Remove things from frame\n",
    "    df_edited = df_edited.drop([\"datetime\"])\n",
    "\n",
    "    # Convert things to logical factors\n",
    "    df_edited['holiday'] = df_edited['holiday'].asfactor()\n",
    "    df_edited['workingday'] = df_edited['workingday'].asfactor()\n",
    "    df_edited['season'] = df_edited['season'].asfactor()\n",
    "    df_edited['weather'] = df_edited['weather'].asfactor()\n",
    "    df_edited['dayofmonth'] = df_edited['dayofmonth'].asfactor()\n",
    "    df_edited['hourofday'] = df_edited['hourofday'].asfactor()\n",
    "    df_edited['dayofmonth'] = df_edited['dayofmonth'].asfactor()\n",
    "    df_edited['month'] = df_edited['month'].asfactor()\n",
    "    \n",
    "    return df_edited\n",
    "    "
   ]
  },
  {
   "cell_type": "code",
   "execution_count": 8,
   "metadata": {},
   "outputs": [],
   "source": [
    "df_edited = preprocess(df)\n",
    "train,test,valid = df_edited.split_frame(ratios=[.85, .1], seed = seed)"
   ]
  },
  {
   "cell_type": "code",
   "execution_count": 9,
   "metadata": {},
   "outputs": [
    {
     "name": "stdout",
     "output_type": "stream",
     "text": [
      "Rows:9283\n",
      "Cols:15\n",
      "\n",
      "\n"
     ]
    },
    {
     "data": {
      "text/html": [
       "<table>\n",
       "<thead>\n",
       "<tr><th>       </th><th>season  </th><th>holiday  </th><th>workingday  </th><th>weather  </th><th>temp             </th><th>atemp            </th><th>humidity          </th><th>windspeed         </th><th>count             </th><th>previouscount     </th><th>dayofweek  </th><th>dayofmonth  </th><th>hourofday  </th><th>year              </th><th>month  </th></tr>\n",
       "</thead>\n",
       "<tbody>\n",
       "<tr><td>type   </td><td>enum    </td><td>enum     </td><td>enum        </td><td>enum     </td><td>real             </td><td>real             </td><td>int               </td><td>real              </td><td>int               </td><td>int               </td><td>enum       </td><td>enum        </td><td>enum       </td><td>int               </td><td>enum   </td></tr>\n",
       "<tr><td>mins   </td><td>        </td><td>         </td><td>            </td><td>         </td><td>0.82             </td><td>0.76             </td><td>0.0               </td><td>0.0               </td><td>1.0               </td><td>1.0               </td><td>           </td><td>            </td><td>           </td><td>2011.0            </td><td>       </td></tr>\n",
       "<tr><td>mean   </td><td>        </td><td>         </td><td>            </td><td>         </td><td>20.2193644296025 </td><td>23.64114725842939</td><td>61.81590003231714 </td><td>12.779464375740602</td><td>192.32877302596142</td><td>191.93471937951094</td><td>           </td><td>            </td><td>           </td><td>2011.5047937089303</td><td>       </td></tr>\n",
       "<tr><td>maxs   </td><td>        </td><td>         </td><td>            </td><td>         </td><td>41.0             </td><td>45.455           </td><td>100.0             </td><td>56.9969           </td><td>977.0             </td><td>977.0             </td><td>           </td><td>            </td><td>           </td><td>2012.0            </td><td>       </td></tr>\n",
       "<tr><td>sigma  </td><td>        </td><td>         </td><td>            </td><td>         </td><td>7.821605504951305</td><td>8.506134753233946</td><td>19.226124595547134</td><td>8.129678467415845 </td><td>182.27345686476707</td><td>181.77608056277506</td><td>           </td><td>            </td><td>           </td><td>0.5000039517137805</td><td>       </td></tr>\n",
       "<tr><td>zeros  </td><td>        </td><td>         </td><td>            </td><td>         </td><td>0                </td><td>0                </td><td>22                </td><td>1121              </td><td>0                 </td><td>0                 </td><td>           </td><td>            </td><td>           </td><td>0                 </td><td>       </td></tr>\n",
       "<tr><td>missing</td><td>0       </td><td>0        </td><td>0           </td><td>0        </td><td>0                </td><td>0                </td><td>0                 </td><td>0                 </td><td>0                 </td><td>0                 </td><td>0          </td><td>0           </td><td>0          </td><td>0                 </td><td>0      </td></tr>\n",
       "<tr><td>0      </td><td>1       </td><td>0        </td><td>0           </td><td>1        </td><td>9.02             </td><td>13.635           </td><td>80.0              </td><td>0.0               </td><td>40.0              </td><td>16.0              </td><td>Sat        </td><td>1           </td><td>1          </td><td>2011.0            </td><td>1      </td></tr>\n",
       "<tr><td>1      </td><td>1       </td><td>0        </td><td>0           </td><td>1        </td><td>9.02             </td><td>13.635           </td><td>80.0              </td><td>0.0               </td><td>32.0              </td><td>40.0              </td><td>Sat        </td><td>1           </td><td>2          </td><td>2011.0            </td><td>1      </td></tr>\n",
       "<tr><td>2      </td><td>1       </td><td>0        </td><td>0           </td><td>1        </td><td>9.84             </td><td>14.395           </td><td>75.0              </td><td>0.0               </td><td>13.0              </td><td>32.0              </td><td>Sat        </td><td>1           </td><td>3          </td><td>2011.0            </td><td>1      </td></tr>\n",
       "<tr><td>3      </td><td>1       </td><td>0        </td><td>0           </td><td>2        </td><td>9.84             </td><td>12.88            </td><td>75.0              </td><td>6.0032            </td><td>1.0               </td><td>1.0               </td><td>Sat        </td><td>1           </td><td>5          </td><td>2011.0            </td><td>1      </td></tr>\n",
       "<tr><td>4      </td><td>1       </td><td>0        </td><td>0           </td><td>1        </td><td>9.02             </td><td>13.635           </td><td>80.0              </td><td>0.0               </td><td>2.0               </td><td>1.0               </td><td>Sat        </td><td>1           </td><td>6          </td><td>2011.0            </td><td>1      </td></tr>\n",
       "<tr><td>5      </td><td>1       </td><td>0        </td><td>0           </td><td>1        </td><td>8.2              </td><td>12.88            </td><td>86.0              </td><td>0.0               </td><td>3.0               </td><td>2.0               </td><td>Sat        </td><td>1           </td><td>7          </td><td>2011.0            </td><td>1      </td></tr>\n",
       "<tr><td>6      </td><td>1       </td><td>0        </td><td>0           </td><td>1        </td><td>9.84             </td><td>14.395           </td><td>75.0              </td><td>0.0               </td><td>8.0               </td><td>3.0               </td><td>Sat        </td><td>1           </td><td>8          </td><td>2011.0            </td><td>1      </td></tr>\n",
       "<tr><td>7      </td><td>1       </td><td>0        </td><td>0           </td><td>1        </td><td>13.12            </td><td>17.425           </td><td>76.0              </td><td>0.0               </td><td>14.0              </td><td>8.0               </td><td>Sat        </td><td>1           </td><td>9          </td><td>2011.0            </td><td>1      </td></tr>\n",
       "<tr><td>8      </td><td>1       </td><td>0        </td><td>0           </td><td>1        </td><td>14.76            </td><td>16.665           </td><td>81.0              </td><td>19.0012           </td><td>56.0              </td><td>36.0              </td><td>Sat        </td><td>1           </td><td>11         </td><td>2011.0            </td><td>1      </td></tr>\n",
       "<tr><td>9      </td><td>1       </td><td>0        </td><td>0           </td><td>1        </td><td>17.22            </td><td>21.21            </td><td>77.0              </td><td>19.0012           </td><td>84.0              </td><td>56.0              </td><td>Sat        </td><td>1           </td><td>12         </td><td>2011.0            </td><td>1      </td></tr>\n",
       "</tbody>\n",
       "</table>"
      ]
     },
     "metadata": {},
     "output_type": "display_data"
    }
   ],
   "source": [
    "# See that the data is ready\n",
    "train.describe()"
   ]
  },
  {
   "cell_type": "code",
   "execution_count": 10,
   "metadata": {},
   "outputs": [
    {
     "name": "stdout",
     "output_type": "stream",
     "text": [
      "Rows:1076\n",
      "Cols:15\n",
      "\n",
      "\n"
     ]
    },
    {
     "data": {
      "text/html": [
       "<table>\n",
       "<thead>\n",
       "<tr><th>       </th><th>season  </th><th>holiday  </th><th>workingday  </th><th>weather  </th><th>temp              </th><th>atemp             </th><th>humidity          </th><th>windspeed         </th><th>count             </th><th>previouscount    </th><th>dayofweek  </th><th>dayofmonth  </th><th>hourofday  </th><th>year             </th><th>month  </th></tr>\n",
       "</thead>\n",
       "<tbody>\n",
       "<tr><td>type   </td><td>enum    </td><td>enum     </td><td>enum        </td><td>enum     </td><td>real              </td><td>real              </td><td>int               </td><td>real              </td><td>int               </td><td>int              </td><td>enum       </td><td>enum        </td><td>enum       </td><td>int              </td><td>enum   </td></tr>\n",
       "<tr><td>mins   </td><td>        </td><td>         </td><td>            </td><td>         </td><td>0.82              </td><td>2.275             </td><td>17.0              </td><td>0.0               </td><td>1.0               </td><td>1.0              </td><td>           </td><td>            </td><td>           </td><td>2011.0           </td><td>       </td></tr>\n",
       "<tr><td>mean   </td><td>        </td><td>         </td><td>            </td><td>         </td><td>20.141059479553903</td><td>23.581259293680294</td><td>62.094795539033456</td><td>12.977084293680297</td><td>182.6189591078067 </td><td>181.7128252788104</td><td>           </td><td>            </td><td>           </td><td>2011.486059479554</td><td>       </td></tr>\n",
       "<tr><td>maxs   </td><td>        </td><td>         </td><td>            </td><td>         </td><td>39.36             </td><td>43.94             </td><td>100.0             </td><td>56.9969           </td><td>890.0             </td><td>891.0            </td><td>           </td><td>            </td><td>           </td><td>2012.0           </td><td>       </td></tr>\n",
       "<tr><td>sigma  </td><td>        </td><td>         </td><td>            </td><td>         </td><td>7.559440165822132 </td><td>8.235174217310064 </td><td>19.531449436087325</td><td>8.386286152353598 </td><td>173.54159282494172</td><td>176.0668378981466</td><td>           </td><td>            </td><td>           </td><td>0.500038037802682</td><td>       </td></tr>\n",
       "<tr><td>zeros  </td><td>        </td><td>         </td><td>            </td><td>         </td><td>0                 </td><td>0                 </td><td>0                 </td><td>128               </td><td>0                 </td><td>0                </td><td>           </td><td>            </td><td>           </td><td>0                </td><td>       </td></tr>\n",
       "<tr><td>missing</td><td>0       </td><td>0        </td><td>0           </td><td>0        </td><td>0                 </td><td>0                 </td><td>0                 </td><td>0                 </td><td>0                 </td><td>0                </td><td>0          </td><td>0           </td><td>0          </td><td>0                </td><td>0      </td></tr>\n",
       "<tr><td>0      </td><td>1       </td><td>0        </td><td>0           </td><td>1        </td><td>15.58             </td><td>19.695            </td><td>76.0              </td><td>16.9979           </td><td>36.0              </td><td>14.0             </td><td>Sat        </td><td>1           </td><td>10         </td><td>2011.0           </td><td>1      </td></tr>\n",
       "<tr><td>1      </td><td>1       </td><td>0        </td><td>0           </td><td>2        </td><td>18.04             </td><td>21.97             </td><td>77.0              </td><td>19.9995           </td><td>110.0             </td><td>106.0            </td><td>Sat        </td><td>1           </td><td>15         </td><td>2011.0           </td><td>1      </td></tr>\n",
       "<tr><td>2      </td><td>1       </td><td>0        </td><td>0           </td><td>3        </td><td>17.22             </td><td>21.21             </td><td>88.0              </td><td>16.9979           </td><td>37.0              </td><td>35.0             </td><td>Sat        </td><td>1           </td><td>19         </td><td>2011.0           </td><td>1      </td></tr>\n",
       "<tr><td>3      </td><td>1       </td><td>0        </td><td>0           </td><td>2        </td><td>16.4              </td><td>20.455            </td><td>87.0              </td><td>16.9979           </td><td>36.0              </td><td>37.0             </td><td>Sat        </td><td>1           </td><td>20         </td><td>2011.0           </td><td>1      </td></tr>\n",
       "<tr><td>4      </td><td>1       </td><td>0        </td><td>0           </td><td>2        </td><td>16.4              </td><td>20.455            </td><td>87.0              </td><td>12.998            </td><td>34.0              </td><td>36.0             </td><td>Sat        </td><td>1           </td><td>21         </td><td>2011.0           </td><td>1      </td></tr>\n",
       "<tr><td>5      </td><td>1       </td><td>0        </td><td>0           </td><td>2        </td><td>16.4              </td><td>20.455            </td><td>76.0              </td><td>12.998            </td><td>1.0               </td><td>2.0              </td><td>Sun        </td><td>2           </td><td>7          </td><td>2011.0           </td><td>1      </td></tr>\n",
       "<tr><td>6      </td><td>1       </td><td>0        </td><td>0           </td><td>2        </td><td>14.76             </td><td>16.665            </td><td>66.0              </td><td>19.9995           </td><td>93.0              </td><td>70.0             </td><td>Sun        </td><td>2           </td><td>12         </td><td>2011.0           </td><td>1      </td></tr>\n",
       "<tr><td>7      </td><td>1       </td><td>0        </td><td>0           </td><td>3        </td><td>13.94             </td><td>16.665            </td><td>71.0              </td><td>11.0014           </td><td>76.0              </td><td>74.0             </td><td>Sun        </td><td>2           </td><td>16         </td><td>2011.0           </td><td>1      </td></tr>\n",
       "<tr><td>8      </td><td>1       </td><td>0        </td><td>0           </td><td>2        </td><td>14.76             </td><td>16.665            </td><td>46.0              </td><td>22.0028           </td><td>53.0              </td><td>65.0             </td><td>Sun        </td><td>2           </td><td>18         </td><td>2011.0           </td><td>1      </td></tr>\n",
       "<tr><td>9      </td><td>1       </td><td>0        </td><td>1           </td><td>1        </td><td>5.74              </td><td>6.82              </td><td>50.0              </td><td>12.998            </td><td>64.0              </td><td>30.0             </td><td>Mon        </td><td>3           </td><td>7          </td><td>2011.0           </td><td>1      </td></tr>\n",
       "</tbody>\n",
       "</table>"
      ]
     },
     "metadata": {},
     "output_type": "display_data"
    }
   ],
   "source": [
    "test.describe()"
   ]
  },
  {
   "cell_type": "code",
   "execution_count": 11,
   "metadata": {},
   "outputs": [
    {
     "name": "stdout",
     "output_type": "stream",
     "text": [
      "AutoML progress: |████████████████████████████████████████████████████████| 100%\n",
      "Parse progress: |█████████████████████████████████████████████████████████| 100%\n"
     ]
    }
   ],
   "source": [
    "x = train.columns\n",
    "y = \"count\"\n",
    "x.remove(y)\n",
    "\n",
    "aml = H2OAutoML(max_runtime_secs = 30, seed = seed)\n",
    "aml.train(x = x, y = y,\n",
    "          training_frame = train,\n",
    "          validation_frame = valid,\n",
    "          leaderboard_frame = test)"
   ]
  },
  {
   "cell_type": "code",
   "execution_count": 12,
   "metadata": {},
   "outputs": [
    {
     "name": "stdout",
     "output_type": "stream",
     "text": [
      "RMSE (root mean squared error)\n",
      "autoML = 29.24\n",
      "\n"
     ]
    },
    {
     "data": {
      "text/html": [
       "<table>\n",
       "<thead>\n",
       "<tr><th>model_id                                             </th><th style=\"text-align: right;\">  mean_residual_deviance</th><th style=\"text-align: right;\">   rmse</th><th style=\"text-align: right;\">    mae</th><th style=\"text-align: right;\">     rmsle</th></tr>\n",
       "</thead>\n",
       "<tbody>\n",
       "<tr><td>StackedEnsemble_AllModels_0_AutoML_20180228_184801   </td><td style=\"text-align: right;\">                 855.083</td><td style=\"text-align: right;\">29.2418</td><td style=\"text-align: right;\">18.8885</td><td style=\"text-align: right;\">nan       </td></tr>\n",
       "<tr><td>GBM_grid_0_AutoML_20180228_184801_model_2            </td><td style=\"text-align: right;\">                 877.191</td><td style=\"text-align: right;\">29.6174</td><td style=\"text-align: right;\">19.391 </td><td style=\"text-align: right;\">nan       </td></tr>\n",
       "<tr><td>GBM_grid_0_AutoML_20180228_184801_model_1            </td><td style=\"text-align: right;\">                 887.897</td><td style=\"text-align: right;\">29.7976</td><td style=\"text-align: right;\">19.5193</td><td style=\"text-align: right;\">nan       </td></tr>\n",
       "<tr><td>GBM_grid_0_AutoML_20180228_184801_model_0            </td><td style=\"text-align: right;\">                 930.779</td><td style=\"text-align: right;\">30.5087</td><td style=\"text-align: right;\">19.8166</td><td style=\"text-align: right;\">nan       </td></tr>\n",
       "<tr><td>StackedEnsemble_BestOfFamily_0_AutoML_20180228_184801</td><td style=\"text-align: right;\">                 944.005</td><td style=\"text-align: right;\">30.7247</td><td style=\"text-align: right;\">19.8937</td><td style=\"text-align: right;\">nan       </td></tr>\n",
       "<tr><td>GBM_grid_0_AutoML_20180228_184801_model_3            </td><td style=\"text-align: right;\">                 948.481</td><td style=\"text-align: right;\">30.7974</td><td style=\"text-align: right;\">20.1677</td><td style=\"text-align: right;\">nan       </td></tr>\n",
       "<tr><td>GBM_grid_0_AutoML_20180228_184801_model_4            </td><td style=\"text-align: right;\">                1003.45 </td><td style=\"text-align: right;\">31.6772</td><td style=\"text-align: right;\">20.5348</td><td style=\"text-align: right;\">nan       </td></tr>\n",
       "<tr><td>DRF_0_AutoML_20180228_184801                         </td><td style=\"text-align: right;\">                1358.72 </td><td style=\"text-align: right;\">36.8608</td><td style=\"text-align: right;\">23.8239</td><td style=\"text-align: right;\">  0.359509</td></tr>\n",
       "<tr><td>XRT_0_AutoML_20180228_184801                         </td><td style=\"text-align: right;\">                3043.64 </td><td style=\"text-align: right;\">55.1692</td><td style=\"text-align: right;\">35.6677</td><td style=\"text-align: right;\">  0.470932</td></tr>\n",
       "<tr><td>GLM_grid_0_AutoML_20180228_184801_model_0            </td><td style=\"text-align: right;\">                4677.61 </td><td style=\"text-align: right;\">68.3931</td><td style=\"text-align: right;\">46.5329</td><td style=\"text-align: right;\">nan       </td></tr>\n",
       "</tbody>\n",
       "</table>"
      ]
     },
     "metadata": {},
     "output_type": "display_data"
    },
    {
     "data": {
      "text/plain": []
     },
     "execution_count": 12,
     "metadata": {},
     "output_type": "execute_result"
    }
   ],
   "source": [
    "aml_leader_metrics = aml.leader.model_performance(test)\n",
    "\n",
    "p = 100 # for display\n",
    "print('RMSE (root mean squared error)')\n",
    "print(f\"autoML = {int(aml_leader_metrics['RMSE']*p)/p}\")\n",
    "print('')\n",
    "aml.leaderboard"
   ]
  },
  {
   "cell_type": "code",
   "execution_count": 13,
   "metadata": {},
   "outputs": [
    {
     "name": "stdout",
     "output_type": "stream",
     "text": [
      "Parse progress: |█████████████████████████████████████████████████████████| 100%\n",
      "stackedensemble prediction progress: |████████████████████████████████████| 100%\n"
     ]
    },
    {
     "name": "stderr",
     "output_type": "stream",
     "text": [
      "/anaconda3/envs/bike-ml/lib/python3.6/site-packages/h2o/job.py:69: UserWarning: Test/Validation dataset is missing column 'previouscount': substituting in a column of NaN\n",
      "  warnings.warn(w)\n",
      "/anaconda3/envs/bike-ml/lib/python3.6/site-packages/h2o/job.py:69: UserWarning: Test/Validation dataset column 'dayofmonth' has levels not trained on: [20, 21, 22, 23, 24, 25, 26, 27, 28, 29, 30, 31]\n",
      "  warnings.warn(w)\n"
     ]
    }
   ],
   "source": [
    "# Now, try to make some predictions!\n",
    "\n",
    "raw_inputs = h2o.import_file(path=_locate(\"test.csv\"))\n",
    "preprocessed_inputs = preprocess(raw_inputs)\n",
    "preds = aml.leader.predict(preprocessed_inputs)"
   ]
  },
  {
   "cell_type": "code",
   "execution_count": 35,
   "metadata": {},
   "outputs": [
    {
     "data": {
      "text/html": [
       "<table>\n",
       "<thead>\n",
       "<tr><th style=\"text-align: right;\">  season</th><th style=\"text-align: right;\">  holiday</th><th style=\"text-align: right;\">  workingday</th><th style=\"text-align: right;\">  weather</th><th style=\"text-align: right;\">  temp</th><th style=\"text-align: right;\">  atemp</th><th style=\"text-align: right;\">  humidity</th><th style=\"text-align: right;\">  windspeed</th><th>dayofweek  </th><th style=\"text-align: right;\">  dayofmonth</th><th style=\"text-align: right;\">  hourofday</th><th style=\"text-align: right;\">  year</th><th style=\"text-align: right;\">  month</th><th style=\"text-align: right;\">  predict</th></tr>\n",
       "</thead>\n",
       "<tbody>\n",
       "<tr><td style=\"text-align: right;\">       1</td><td style=\"text-align: right;\">        0</td><td style=\"text-align: right;\">           1</td><td style=\"text-align: right;\">        1</td><td style=\"text-align: right;\"> 10.66</td><td style=\"text-align: right;\"> 11.365</td><td style=\"text-align: right;\">        56</td><td style=\"text-align: right;\">    26.0027</td><td>Thu        </td><td style=\"text-align: right;\">          20</td><td style=\"text-align: right;\">          0</td><td style=\"text-align: right;\">  2011</td><td style=\"text-align: right;\">      1</td><td style=\"text-align: right;\">  6.28353</td></tr>\n",
       "<tr><td style=\"text-align: right;\">       1</td><td style=\"text-align: right;\">        0</td><td style=\"text-align: right;\">           1</td><td style=\"text-align: right;\">        1</td><td style=\"text-align: right;\"> 10.66</td><td style=\"text-align: right;\"> 13.635</td><td style=\"text-align: right;\">        56</td><td style=\"text-align: right;\">     0     </td><td>Thu        </td><td style=\"text-align: right;\">          20</td><td style=\"text-align: right;\">          1</td><td style=\"text-align: right;\">  2011</td><td style=\"text-align: right;\">      1</td><td style=\"text-align: right;\">  4.70835</td></tr>\n",
       "<tr><td style=\"text-align: right;\">       1</td><td style=\"text-align: right;\">        0</td><td style=\"text-align: right;\">           1</td><td style=\"text-align: right;\">        1</td><td style=\"text-align: right;\"> 10.66</td><td style=\"text-align: right;\"> 13.635</td><td style=\"text-align: right;\">        56</td><td style=\"text-align: right;\">     0     </td><td>Thu        </td><td style=\"text-align: right;\">          20</td><td style=\"text-align: right;\">          2</td><td style=\"text-align: right;\">  2011</td><td style=\"text-align: right;\">      1</td><td style=\"text-align: right;\">  3.7277 </td></tr>\n",
       "<tr><td style=\"text-align: right;\">       1</td><td style=\"text-align: right;\">        0</td><td style=\"text-align: right;\">           1</td><td style=\"text-align: right;\">        1</td><td style=\"text-align: right;\"> 10.66</td><td style=\"text-align: right;\"> 12.88 </td><td style=\"text-align: right;\">        56</td><td style=\"text-align: right;\">    11.0014</td><td>Thu        </td><td style=\"text-align: right;\">          20</td><td style=\"text-align: right;\">          3</td><td style=\"text-align: right;\">  2011</td><td style=\"text-align: right;\">      1</td><td style=\"text-align: right;\">  3.26076</td></tr>\n",
       "<tr><td style=\"text-align: right;\">       1</td><td style=\"text-align: right;\">        0</td><td style=\"text-align: right;\">           1</td><td style=\"text-align: right;\">        1</td><td style=\"text-align: right;\"> 10.66</td><td style=\"text-align: right;\"> 12.88 </td><td style=\"text-align: right;\">        56</td><td style=\"text-align: right;\">    11.0014</td><td>Thu        </td><td style=\"text-align: right;\">          20</td><td style=\"text-align: right;\">          4</td><td style=\"text-align: right;\">  2011</td><td style=\"text-align: right;\">      1</td><td style=\"text-align: right;\">  3.42961</td></tr>\n",
       "<tr><td style=\"text-align: right;\">       1</td><td style=\"text-align: right;\">        0</td><td style=\"text-align: right;\">           1</td><td style=\"text-align: right;\">        1</td><td style=\"text-align: right;\">  9.84</td><td style=\"text-align: right;\"> 11.365</td><td style=\"text-align: right;\">        60</td><td style=\"text-align: right;\">    15.0013</td><td>Thu        </td><td style=\"text-align: right;\">          20</td><td style=\"text-align: right;\">          5</td><td style=\"text-align: right;\">  2011</td><td style=\"text-align: right;\">      1</td><td style=\"text-align: right;\"> 12.1321 </td></tr>\n",
       "<tr><td style=\"text-align: right;\">       1</td><td style=\"text-align: right;\">        0</td><td style=\"text-align: right;\">           1</td><td style=\"text-align: right;\">        1</td><td style=\"text-align: right;\">  9.02</td><td style=\"text-align: right;\"> 10.605</td><td style=\"text-align: right;\">        60</td><td style=\"text-align: right;\">    15.0013</td><td>Thu        </td><td style=\"text-align: right;\">          20</td><td style=\"text-align: right;\">          6</td><td style=\"text-align: right;\">  2011</td><td style=\"text-align: right;\">      1</td><td style=\"text-align: right;\"> 58.5783 </td></tr>\n",
       "<tr><td style=\"text-align: right;\">       1</td><td style=\"text-align: right;\">        0</td><td style=\"text-align: right;\">           1</td><td style=\"text-align: right;\">        1</td><td style=\"text-align: right;\">  9.02</td><td style=\"text-align: right;\"> 10.605</td><td style=\"text-align: right;\">        55</td><td style=\"text-align: right;\">    15.0013</td><td>Thu        </td><td style=\"text-align: right;\">          20</td><td style=\"text-align: right;\">          7</td><td style=\"text-align: right;\">  2011</td><td style=\"text-align: right;\">      1</td><td style=\"text-align: right;\">143.696  </td></tr>\n",
       "<tr><td style=\"text-align: right;\">       1</td><td style=\"text-align: right;\">        0</td><td style=\"text-align: right;\">           1</td><td style=\"text-align: right;\">        1</td><td style=\"text-align: right;\">  9.02</td><td style=\"text-align: right;\"> 10.605</td><td style=\"text-align: right;\">        55</td><td style=\"text-align: right;\">    19.0012</td><td>Thu        </td><td style=\"text-align: right;\">          20</td><td style=\"text-align: right;\">          8</td><td style=\"text-align: right;\">  2011</td><td style=\"text-align: right;\">      1</td><td style=\"text-align: right;\">156.522  </td></tr>\n",
       "<tr><td style=\"text-align: right;\">       1</td><td style=\"text-align: right;\">        0</td><td style=\"text-align: right;\">           1</td><td style=\"text-align: right;\">        2</td><td style=\"text-align: right;\">  9.84</td><td style=\"text-align: right;\"> 11.365</td><td style=\"text-align: right;\">        52</td><td style=\"text-align: right;\">    15.0013</td><td>Thu        </td><td style=\"text-align: right;\">          20</td><td style=\"text-align: right;\">          9</td><td style=\"text-align: right;\">  2011</td><td style=\"text-align: right;\">      1</td><td style=\"text-align: right;\"> 57.0523 </td></tr>\n",
       "</tbody>\n",
       "</table>"
      ]
     },
     "metadata": {},
     "output_type": "display_data"
    },
    {
     "data": {
      "image/png": "[encoded data removed]",
      "text/plain": [
       "<matplotlib.figure.Figure at 0x116c54c18>"
      ]
     },
     "metadata": {},
     "output_type": "display_data"
    }
   ],
   "source": [
    "# now, display the predictions\n",
    "table_with_predictions = preprocessed_inputs.cbind(preds)\n",
    "table_with_predictions.show()\n",
    "\n",
    "table = np.transpose(np.array(table_with_predictions.as_data_frame(use_pandas=False, header=False)))\n",
    "y = table[13] # predictions\n",
    "table2 = np.transpose(np.array(raw_inputs.as_data_frame(use_pandas=False, header=False)))\n",
    "x = table2[0]\n",
    "\n",
    "\n",
    "# plot first 2 weeks of predictions\n",
    "plt.plot(x[0:336], y[0:336])\n",
    "plt.axis('off')\n",
    "plt.show()\n"
   ]
  },
  {
   "cell_type": "code",
   "execution_count": null,
   "metadata": {},
   "outputs": [],
   "source": []
  }
 ],
 "metadata": {
  "kernelspec": {
   "display_name": "Python [conda env:bike-ml]",
   "language": "python",
   "name": "conda-env-bike-ml-py"
  },
  "language_info": {
   "codemirror_mode": {
    "name": "ipython",
    "version": 3
   },
   "file_extension": ".py",
   "mimetype": "text/x-python",
   "name": "python",
   "nbconvert_exporter": "python",
   "pygments_lexer": "ipython3",
   "version": "3.7.0"
  }
 },
 "nbformat": 4,
 "nbformat_minor": 1
}
