{
 "cells": [
  {
   "cell_type": "code",
   "execution_count": 40,
   "metadata": {},
   "outputs": [],
   "source": [
    "%matplotlib inline\n",
    "\n",
    "import h2o\n",
    "from h2o.estimators.gbm import H2OGradientBoostingEstimator\n",
    "from h2o.estimators.glm import H2OGeneralizedLinearEstimator\n",
    "from h2o.automl import H2OAutoML\n",
    "\n",
    "import matplotlib.pyplot as plt\n",
    "import numpy as np"
   ]
  },
  {
   "cell_type": "code",
   "execution_count": 41,
   "metadata": {},
   "outputs": [
    {
     "name": "stdout",
     "output_type": "stream",
     "text": [
      "Checking whether there is an H2O instance running at http://localhost:54321. connected.\n"
     ]
    },
    {
     "data": {
      "text/html": [
       "<div style=\"overflow:auto\"><table style=\"width:50%\"><tr><td>H2O cluster uptime:</td>\n",
       "<td>48 mins 08 secs</td></tr>\n",
       "<tr><td>H2O cluster timezone:</td>\n",
       "<td>America/Denver</td></tr>\n",
       "<tr><td>H2O data parsing timezone:</td>\n",
       "<td>UTC</td></tr>\n",
       "<tr><td>H2O cluster version:</td>\n",
       "<td>3.20.0.8</td></tr>\n",
       "<tr><td>H2O cluster version age:</td>\n",
       "<td>23 days </td></tr>\n",
       "<tr><td>H2O cluster name:</td>\n",
       "<td>H2O_from_python_pivotal_g3qr87</td></tr>\n",
       "<tr><td>H2O cluster total nodes:</td>\n",
       "<td>1</td></tr>\n",
       "<tr><td>H2O cluster free memory:</td>\n",
       "<td>2.360 Gb</td></tr>\n",
       "<tr><td>H2O cluster total cores:</td>\n",
       "<td>8</td></tr>\n",
       "<tr><td>H2O cluster allowed cores:</td>\n",
       "<td>8</td></tr>\n",
       "<tr><td>H2O cluster status:</td>\n",
       "<td>locked, healthy</td></tr>\n",
       "<tr><td>H2O connection url:</td>\n",
       "<td>http://localhost:54321</td></tr>\n",
       "<tr><td>H2O connection proxy:</td>\n",
       "<td>None</td></tr>\n",
       "<tr><td>H2O internal security:</td>\n",
       "<td>False</td></tr>\n",
       "<tr><td>H2O API Extensions:</td>\n",
       "<td>XGBoost, Algos, AutoML, Core V3, Core V4</td></tr>\n",
       "<tr><td>Python version:</td>\n",
       "<td>3.7.0 final</td></tr></table></div>"
      ],
      "text/plain": [
       "--------------------------  ----------------------------------------\n",
       "H2O cluster uptime:         48 mins 08 secs\n",
       "H2O cluster timezone:       America/Denver\n",
       "H2O data parsing timezone:  UTC\n",
       "H2O cluster version:        3.20.0.8\n",
       "H2O cluster version age:    23 days\n",
       "H2O cluster name:           H2O_from_python_pivotal_g3qr87\n",
       "H2O cluster total nodes:    1\n",
       "H2O cluster free memory:    2.360 Gb\n",
       "H2O cluster total cores:    8\n",
       "H2O cluster allowed cores:  8\n",
       "H2O cluster status:         locked, healthy\n",
       "H2O connection url:         http://localhost:54321\n",
       "H2O connection proxy:\n",
       "H2O internal security:      False\n",
       "H2O API Extensions:         XGBoost, Algos, AutoML, Core V3, Core V4\n",
       "Python version:             3.7.0 final\n",
       "--------------------------  ----------------------------------------"
      ]
     },
     "metadata": {},
     "output_type": "display_data"
    }
   ],
   "source": [
    "# constant random seed \n",
    "seed = 3232\n",
    "\n",
    "# Connect to a pre-existing cluster\n",
    "h2o.init()"
   ]
  },
  {
   "cell_type": "code",
   "execution_count": 42,
   "metadata": {
    "scrolled": true
   },
   "outputs": [
    {
     "name": "stdout",
     "output_type": "stream",
     "text": [
      "Parse progress: |█████████████████████████████████████████████████████████| 100%\n"
     ]
    }
   ],
   "source": [
    "from h2o.utils.shared_utils import _locate # private function. used to find files within h2o git project directory.\n",
    "\n",
    "df = h2o.import_file(path=_locate(\"storymanagement.csv\"))"
   ]
  },
  {
   "cell_type": "code",
   "execution_count": 43,
   "metadata": {
    "scrolled": false
   },
   "outputs": [
    {
     "name": "stdout",
     "output_type": "stream",
     "text": [
      "Rows:4946\n",
      "Cols:20\n",
      "\n",
      "\n"
     ]
    },
    {
     "data": {
      "text/html": [
       "<table>\n",
       "<thead>\n",
       "<tr><th>       </th><th>Id                </th><th>Title                                                                                             </th><th>Labels             </th><th>Iteration         </th><th>Iteration Start  </th><th>Iteration End  </th><th>Type   </th><th>Estimate          </th><th>Current State  </th><th>Created at  </th><th>Accepted at  </th><th>Deadline  </th><th>Requested By   </th><th>Description                                            </th><th>URL                                               </th><th>Zendesk ID       </th><th>Integration  </th><th>Owned By         </th><th>Owned By 2  </th><th>Owned By 3  </th></tr>\n",
       "</thead>\n",
       "<tbody>\n",
       "<tr><td>type   </td><td>int               </td><td>string                                                                                            </td><td>enum               </td><td>int               </td><td>enum             </td><td>enum           </td><td>enum   </td><td>int               </td><td>enum           </td><td>enum        </td><td>enum         </td><td>string    </td><td>enum           </td><td>string                                                 </td><td>string                                            </td><td>int              </td><td>enum         </td><td>enum             </td><td>enum        </td><td>enum        </td></tr>\n",
       "<tr><td>mins   </td><td>500.0             </td><td>NaN                                                                                               </td><td>                   </td><td>1.0               </td><td>                 </td><td>               </td><td>       </td><td>0.0               </td><td>               </td><td>            </td><td>             </td><td>NaN       </td><td>               </td><td>NaN                                                    </td><td>NaN                                               </td><td>18665.0          </td><td>             </td><td>                 </td><td>            </td><td>            </td></tr>\n",
       "<tr><td>mean   </td><td>105972533.81592357</td><td>NaN                                                                                               </td><td>                   </td><td>143.33248407643313</td><td>                 </td><td>               </td><td>       </td><td>1.043905635648755 </td><td>               </td><td>            </td><td>             </td><td>0.0       </td><td>               </td><td>NaN                                                    </td><td>NaN                                               </td><td>37677.06086956522</td><td>             </td><td>                 </td><td>            </td><td>            </td></tr>\n",
       "<tr><td>maxs   </td><td>153933352.0       </td><td>NaN                                                                                               </td><td>                   </td><td>34805.0           </td><td>                 </td><td>               </td><td>       </td><td>8.0               </td><td>               </td><td>            </td><td>             </td><td>NaN       </td><td>               </td><td>NaN                                                    </td><td>NaN                                               </td><td>55086.0          </td><td>             </td><td>                 </td><td>            </td><td>            </td></tr>\n",
       "<tr><td>sigma  </td><td>30729780.90312876 </td><td>NaN                                                                                               </td><td>                   </td><td>509.55840527466114</td><td>                 </td><td>               </td><td>       </td><td>0.7279246594106115</td><td>               </td><td>            </td><td>             </td><td>-0.0      </td><td>               </td><td>NaN                                                    </td><td>NaN                                               </td><td>9846.203651439662</td><td>             </td><td>                 </td><td>            </td><td>            </td></tr>\n",
       "<tr><td>zeros  </td><td>0                 </td><td>0                                                                                                 </td><td>                   </td><td>0                 </td><td>                 </td><td>               </td><td>       </td><td>289               </td><td>               </td><td>            </td><td>             </td><td>0         </td><td>               </td><td>0                                                      </td><td>0                                                 </td><td>0                </td><td>             </td><td>                 </td><td>            </td><td>            </td></tr>\n",
       "<tr><td>missing</td><td>236               </td><td>150                                                                                               </td><td>1472               </td><td>236               </td><td>219              </td><td>221            </td><td>229    </td><td>3420              </td><td>236            </td><td>235         </td><td>289          </td><td>4939      </td><td>236            </td><td>1358                                                   </td><td>235                                               </td><td>4716             </td><td>4715         </td><td>606              </td><td>2362        </td><td>4701        </td></tr>\n",
       "<tr><td>0      </td><td>48348515.0        </td><td>Figure out how to organize the code                                                               </td><td>infrastructure     </td><td>1.0               </td><td>Apr 15, 2013     </td><td>Apr 21, 2013   </td><td>chore  </td><td>nan               </td><td>accepted       </td><td>Apr 18, 2013</td><td>Apr 18, 2013 </td><td>          </td><td>Ryan Dy        </td><td>                                                       </td><td>https://www.pivotaltracker.com/story/show/48348515</td><td>nan              </td><td>             </td><td>Thomas Bukowski  </td><td>            </td><td>            </td></tr>\n",
       "<tr><td>1      </td><td>48373011.0        </td><td>Set up new repo for Next                                                                          </td><td>infrastructure     </td><td>5.0               </td><td>May 13, 2013     </td><td>May 19, 2013   </td><td>chore  </td><td>nan               </td><td>accepted       </td><td>Apr 18, 2013</td><td>May 14, 2013 </td><td>          </td><td>Thomas Bukowski</td><td>                                                       </td><td>https://www.pivotaltracker.com/story/show/48373011</td><td>nan              </td><td>             </td><td>Thomas Bukowski  </td><td>            </td><td>            </td></tr>\n",
       "<tr><td>2      </td><td>49779379.0        </td><td>setup gemspec for charlotte                                                                       </td><td>                   </td><td>5.0               </td><td>May 13, 2013     </td><td>May 19, 2013   </td><td>chore  </td><td>nan               </td><td>accepted       </td><td>May 13, 2013</td><td>May 14, 2013 </td><td>          </td><td>Ryan Dy        </td><td>                                                       </td><td>https://www.pivotaltracker.com/story/show/49779379</td><td>nan              </td><td>             </td><td>Ryan Dy          </td><td>            </td><td>            </td></tr>\n",
       "<tr><td>3      </td><td>48348569.0        </td><td>Set up CI for tracker-next                                                                        </td><td>infrastructure     </td><td>6.0               </td><td>May 20, 2013     </td><td>May 26, 2013   </td><td>chore  </td><td>nan               </td><td>accepted       </td><td>Apr 18, 2013</td><td>May 20, 2013 </td><td>          </td><td>Ryan Dy        </td><td>                                                       </td><td>https://www.pivotaltracker.com/story/show/48348569</td><td>nan              </td><td>             </td><td>Matthew Heidemann</td><td>            </td><td>            </td></tr>\n",
       "<tr><td>4      </td><td>48348295.0        </td><td>Tracker Next interface should have a different URL                                                </td><td>infrastructure     </td><td>6.0               </td><td>May 20, 2013     </td><td>May 26, 2013   </td><td>feature</td><td>1.0               </td><td>accepted       </td><td>Apr 18, 2013</td><td>May 20, 2013 </td><td>          </td><td>Ryan Dy        </td><td>/n/projects/101                                        </td><td>https://www.pivotaltracker.com/story/show/48348295</td><td>nan              </td><td>             </td><td>Ryan Dy          </td><td>            </td><td>            </td></tr>\n",
       "<tr><td>5      </td><td>48348951.0        </td><td>When user goes to Next URL, they see a new layout with a project header, side bar, and panels area</td><td>navigation         </td><td>6.0               </td><td>May 20, 2013     </td><td>May 26, 2013   </td><td>feature</td><td>2.0               </td><td>accepted       </td><td>Apr 18, 2013</td><td>May 20, 2013 </td><td>          </td><td>Ryan Dy        </td><td>Set up the three areas: project header, side bar and panels area\n",
       "No project tabs                                                        </td><td>https://www.pivotaltracker.com/story/show/48348951</td><td>nan              </td><td>             </td><td>Ryan Dy          </td><td>            </td><td>            </td></tr>\n",
       "<tr><td>6      </td><td>48352557.0        </td><td>Use Open Sans from Google Web Fonts for the font for everything                                   </td><td>navigation, webfont</td><td>6.0               </td><td>May 20, 2013     </td><td>May 26, 2013   </td><td>feature</td><td>0.0               </td><td>accepted       </td><td>Apr 18, 2013</td><td>May 22, 2013 </td><td>          </td><td>Thomas Bukowski</td><td>                                                       </td><td>https://www.pivotaltracker.com/story/show/48352557</td><td>nan              </td><td>             </td><td>Ryan Dy          </td><td>            </td><td>            </td></tr>\n",
       "<tr><td>7      </td><td>48349091.0        </td><td>Sidebar shows what project you are in                                                             </td><td>navigation         </td><td>6.0               </td><td>May 20, 2013     </td><td>May 26, 2013   </td><td>feature</td><td>1.0               </td><td>accepted       </td><td>Apr 18, 2013</td><td>May 23, 2013 </td><td>          </td><td>Ryan Dy        </td><td>Just the name of the project. Truncate when longer than something\n",
       "no velocity display for now                                                        </td><td>https://www.pivotaltracker.com/story/show/48349091</td><td>nan              </td><td>             </td><td>Ryan Dy          </td><td>            </td><td>            </td></tr>\n",
       "<tr><td>8      </td><td>48351783.0        </td><td>Layout has a working project header, as current UI                                                </td><td>navigation         </td><td>7.0               </td><td>May 27, 2013     </td><td>Jun 2, 2013    </td><td>feature</td><td>1.0               </td><td>accepted       </td><td>Apr 18, 2013</td><td>May 29, 2013 </td><td>          </td><td>Ryan Dy        </td><td>Same header as before\n",
       "No project tabs\n",
       "All menu options should work including clicking on Pivotal Tracker to get back to dashboard                                                        </td><td>https://www.pivotaltracker.com/story/show/48351783</td><td>nan              </td><td>             </td><td>Ryan Dy          </td><td>            </td><td>            </td></tr>\n",
       "<tr><td>9      </td><td>48348551.0        </td><td>Set up deploy for Next                                                                            </td><td>infrastructure     </td><td>7.0               </td><td>May 27, 2013     </td><td>Jun 2, 2013    </td><td>feature</td><td>2.0               </td><td>accepted       </td><td>Apr 18, 2013</td><td>May 29, 2013 </td><td>          </td><td>Ryan Dy        </td><td>Need to be able to deploy next w/o disrupting charlotte</td><td>https://www.pivotaltracker.com/story/show/48348551</td><td>nan              </td><td>             </td><td>Ryan Dy          </td><td>            </td><td>            </td></tr>\n",
       "</tbody>\n",
       "</table>"
      ]
     },
     "metadata": {},
     "output_type": "display_data"
    }
   ],
   "source": [
    "df.describe()"
   ]
  },
  {
   "cell_type": "code",
   "execution_count": 44,
   "metadata": {},
   "outputs": [],
   "source": [
    "# Does preprocessing on the raw data frame\n",
    "def preprocess(df):\n",
    "    df_edited = df\n",
    "    \n",
    "    for field in [\"id\", \"Current State\", \"Requested By\", \"URL\", \"Zendesk ID\", \"Integration\", \"Labels\",\n",
    "                  \"Owned By\", \"Owned By 2\", \"Owned By 3\", \"Iteration Start\", \"Iteration End\", \"Created at\", \n",
    "                  \"Accepted at\"\n",
    "                 ]: \n",
    "        try:\n",
    "            df_edited = df_edited.drop(field)\n",
    "        except:\n",
    "            pass\n",
    "\n",
    "    # Convert fields to logical factors\n",
    "    df_edited['Estimate'] = df_edited['Estimate'].asfactor()\n",
    "    df_edited['Iteration'] = df_edited['Iteration'].asfactor()\n",
    "    df_edited['Type'] = df_edited['Type'].asfactor() #drop non-features altogether?\n",
    "    \n",
    "    return df_edited\n"
   ]
  },
  {
   "cell_type": "code",
   "execution_count": null,
   "metadata": {},
   "outputs": [],
   "source": []
  },
  {
   "cell_type": "code",
   "execution_count": 49,
   "metadata": {},
   "outputs": [
    {
     "data": {
      "text/html": [
       "<table>\n",
       "<thead>\n",
       "<tr><th>C1     </th></tr>\n",
       "</thead>\n",
       "<tbody>\n",
       "<tr><td>like   </td></tr>\n",
       "<tr><td>file   </td></tr>\n",
       "<tr><td>name   </td></tr>\n",
       "<tr><td>changes</td></tr>\n",
       "<tr><td>size   </td></tr>\n",
       "<tr><td>etc    </td></tr>\n",
       "<tr><td>       </td></tr>\n",
       "<tr><td>pr     </td></tr>\n",
       "<tr><td>https  </td></tr>\n",
       "<tr><td>github </td></tr>\n",
       "</tbody>\n",
       "</table>"
      ]
     },
     "metadata": {},
     "output_type": "display_data"
    },
    {
     "data": {
      "text/plain": []
     },
     "execution_count": 49,
     "metadata": {},
     "output_type": "execute_result"
    }
   ],
   "source": [
    "# Set Stop Words\n",
    "# The STOP WORDS we are importing are from the nltk package\n",
    "import pandas as pd\n",
    "import os\n",
    "\n",
    "# Use local data file or download from GitHub\n",
    "docker_data_path = \"/home/h2o/data/nlp/stopwords.csv\"\n",
    "if os.path.isfile(docker_data_path):\n",
    "  data_path = docker_data_path\n",
    "else:\n",
    "  data_path = \"https://raw.githubusercontent.com/h2oai/h2o-tutorials/master/h2o-world-2017/nlp/stopwords.csv\"\n",
    "\n",
    "STOP_WORDS = pd.read_csv(data_path, header=0)\n",
    "STOP_WORDS = list(STOP_WORDS['STOP_WORD'])\n",
    "\n",
    "def tokenize(sentences, stop_word = STOP_WORDS):\n",
    "    tokenized = sentences.tokenize(\"\\\\W+\")\n",
    "    tokenized_lower = tokenized.tolower()\n",
    "    tokenized_filtered = tokenized_lower[(tokenized_lower.nchar() >= 2) | (tokenized_lower.isna()),:]\n",
    "    tokenized_words = tokenized_filtered[tokenized_filtered.grep(\"[0-9]\",invert=True,output_logical=True),:]\n",
    "    tokenized_words = tokenized_words[(tokenized_words.isna()) | (~ tokenized_words.isin(STOP_WORDS)),:]\n",
    "    return tokenized_words\n",
    "\n",
    "# Break titles into sequence of words\n",
    "words = tokenize(df_edited[\"Description\"])\n",
    "\n",
    "words.head()"
   ]
  },
  {
   "cell_type": "code",
   "execution_count": 50,
   "metadata": {},
   "outputs": [
    {
     "name": "stdout",
     "output_type": "stream",
     "text": [
      "word2vec Model Build progress: |██████████████████████████████████████████| 100%\n"
     ]
    }
   ],
   "source": [
    "# Train Word2Vec Model\n",
    "from h2o.estimators.word2vec import H2OWord2vecEstimator\n",
    "\n",
    "# This takes time to run - left commented out\n",
    "w2v_model = H2OWord2vecEstimator(vec_size = 100, model_id = \"w2v.hex\")\n",
    "w2v_model.train(training_frame=words)"
   ]
  },
  {
   "cell_type": "code",
   "execution_count": 75,
   "metadata": {},
   "outputs": [
    {
     "data": {
      "text/plain": [
       "OrderedDict([('description', 0.9480673670768738),\n",
       "             ('mode', 0.9363235831260681),\n",
       "             ('new', 0.9280204176902771),\n",
       "             ('add', 0.9190223217010498),\n",
       "             ('workspace', 0.9154120683670044)])"
      ]
     },
     "execution_count": 75,
     "metadata": {},
     "output_type": "execute_result"
    }
   ],
   "source": [
    "w2v_model.find_synonyms(\"text\", count = 5)"
   ]
  },
  {
   "cell_type": "code",
   "execution_count": null,
   "metadata": {},
   "outputs": [],
   "source": [
    "df_edited = preprocess(df)\n",
    "\n",
    "train,test,valid = df_edited.split_frame(ratios=[.85, .1], seed = seed)"
   ]
  },
  {
   "cell_type": "code",
   "execution_count": 29,
   "metadata": {},
   "outputs": [
    {
     "name": "stdout",
     "output_type": "stream",
     "text": [
      "Rows:30\n",
      "Cols:7\n",
      "\n",
      "\n"
     ]
    },
    {
     "data": {
      "text/html": [
       "<table>\n",
       "<thead>\n",
       "<tr><th>       </th><th>Id                </th><th>Title                                                                                                                 </th><th>Iteration  </th><th>Type   </th><th>Estimate  </th><th>Deadline  </th><th>Description                                                       </th></tr>\n",
       "</thead>\n",
       "<tbody>\n",
       "<tr><td>type   </td><td>int               </td><td>string                                                                                                                </td><td>enum       </td><td>enum   </td><td>enum      </td><td>int       </td><td>string                                                            </td></tr>\n",
       "<tr><td>mins   </td><td>135086499.0       </td><td>NaN                                                                                                                   </td><td>           </td><td>       </td><td>          </td><td>NaN       </td><td>NaN                                                               </td></tr>\n",
       "<tr><td>mean   </td><td>143737235.50000003</td><td>NaN                                                                                                                   </td><td>           </td><td>       </td><td>          </td><td>0.0       </td><td>NaN                                                               </td></tr>\n",
       "<tr><td>maxs   </td><td>150727910.0       </td><td>NaN                                                                                                                   </td><td>           </td><td>       </td><td>          </td><td>NaN       </td><td>NaN                                                               </td></tr>\n",
       "<tr><td>sigma  </td><td>4704531.071147165 </td><td>NaN                                                                                                                   </td><td>           </td><td>       </td><td>          </td><td>-0.0      </td><td>NaN                                                               </td></tr>\n",
       "<tr><td>zeros  </td><td>0                 </td><td>0                                                                                                                     </td><td>           </td><td>       </td><td>          </td><td>0         </td><td>0                                                                 </td></tr>\n",
       "<tr><td>missing</td><td>0                 </td><td>0                                                                                                                     </td><td>0          </td><td>0      </td><td>25        </td><td>30        </td><td>5                                                                 </td></tr>\n",
       "<tr><td>0      </td><td>135086499.0       </td><td>Handle attachment parameter in comment create and update commands on the server                                       </td><td>204        </td><td>feature</td><td>1         </td><td>nan       </td><td>### [PR 1088](https://github.com/pivotaltracker/tracker/pull/1088)\n",
       "\n",
       "CommentCreate & CommentUpdate command can accept a \"attachments\" field. The `Attachments` field and the `file/google_attachments` fields are mutually exclusive and will error if both types are in the parameters.\n",
       "\n",
       "The parameters for attachments should be backwards compatible. However, we do not need forward compatibility because we will switch to results processing before we start sending new parameters from stories view (#138675351, #137978163).                                                                   </td></tr>\n",
       "<tr><td>1      </td><td>141424575.0       </td><td>Project color not retained after reload if changed in project or workspace edit (on www) or just workspace (on ondeck)</td><td>204        </td><td>bug    </td><td>          </td><td>nan       </td><td>1. Got to a project on www\n",
       "2. Change its color\n",
       "3. reload the page- old color is back\n",
       "4. Got to a workspace on on deck\n",
       "5. Click manage workspace icon (tooltip says project count not manage Workspace - may be hard for users to find BTW. Hopefully they'll guess which item under Settings allows colors to be changed)\n",
       "6. Click a color to change it.\n",
       "7. It seems to change in sidebar but does not change in workspace. \n",
       "8. Reload page - old color back in sidebar and remains in workspace panels.                                                                   </td></tr>\n",
       "<tr><td>2      </td><td>139907661.0       </td><td>A warning dialog appears if attempting to download an attachment with an unknown filetype.                            </td><td>204        </td><td>bug    </td><td>          </td><td>nan       </td><td>### [PR 1179](https://github.com/pivotaltracker/tracker/pull/1179)\n",
       "\n",
       "~~[PR 1067](https://github.com/pivotaltracker/tracker/pull/1067)~~\n",
       "\n",
       "This behavior reproduces using the new comment styling.\n",
       "\n",
       "1.  Add a comment with an attachment that is an unknown type.  (See attached.)\n",
       "2.  Edit the comment.\n",
       "3.  Click the attachment. (Click any attachment with an unknown file type - it is not limited to attachments in the comment under edit.)\n",
       "\n",
       "Expected:  If it works like the existing behavior, it downloads.\n",
       "Actual:  A navigation warning appears (see attached.)                                                                   </td></tr>\n",
       "<tr><td>3      </td><td>141609175.0       </td><td>Explore deleting comments to discover any unexpected behavior or regressions due to the change to results processing  </td><td>205        </td><td>chore  </td><td>          </td><td>nan       </td><td>                                                                  </td></tr>\n",
       "<tr><td>4      </td><td>139761989.0       </td><td>Inconsistent capitalization in new comments for AM/PM                                                                 </td><td>205        </td><td>bug    </td><td>          </td><td>nan       </td><td>Commits use \"am\"/\"pm\" and comments use \"AM\"/\"PM.\n",
       "\n",
       "http://tracker-styleguide.cfapps.io/css_writing.html says to use lowercase.                                                                   </td></tr>\n",
       "<tr><td>5      </td><td>139503399.0       </td><td>Stop passing backbone models as props to CommentV2 components                                                         </td><td>205        </td><td>chore  </td><td>          </td><td>nan       </td><td>### [PR 1246](https://github.com/pivotaltracker/tracker/pull/1246)</td></tr>\n",
       "<tr><td>6      </td><td>141038619.0       </td><td>Update file drop prompt                                                                                               </td><td>205        </td><td>feature</td><td>1         </td><td>nan       </td><td>### [PR 1249](https://github.com/pivotaltracker/tracker/pull/1249)\n",
       "\n",
       "Radiate blue icon w/concentric circles ala google material design                                                                   </td></tr>\n",
       "<tr><td>7      </td><td>140871861.0       </td><td>Button for emoji picker too dark in new comment styling                                                               </td><td>205        </td><td>feature</td><td>0         </td><td>nan       </td><td>### [PR 1233](https://github.com/pivotaltracker/tracker/pull/1233)</td></tr>\n",
       "<tr><td>8      </td><td>141879609.0       </td><td>failing frontend-integration on master after merge of #140081257                                                      </td><td>205        </td><td>chore  </td><td>          </td><td>nan       </td><td>                                                                  </td></tr>\n",
       "<tr><td>9      </td><td>140775189.0       </td><td>Description editor should use a react component                                                                       </td><td>205        </td><td>feature</td><td>1         </td><td>nan       </td><td>### [PR 1182](https://github.com/pivotaltracker/tracker/pull/1182)\n",
       "\n",
       "**Goals:**\n",
       "* Fix #139482005 this data loss issue where the pending description is clobbered \n",
       "* Remove another backbone view\n",
       "\n",
       "**~~Non~~Goal**\n",
       "* Converting the presentation or show view of the description backbone component\n",
       "\n",
       "**Example**\n",
       "1. See story above\n",
       "2. Happy path case - User edits the description and presses done to save and submit request to server.                                                                   </td></tr>\n",
       "</tbody>\n",
       "</table>"
      ]
     },
     "metadata": {},
     "output_type": "display_data"
    }
   ],
   "source": [
    "# See that the data is ready\n",
    "train.describe()"
   ]
  },
  {
   "cell_type": "code",
   "execution_count": 8,
   "metadata": {},
   "outputs": [
    {
     "name": "stdout",
     "output_type": "stream",
     "text": [
      "gbm Model Build progress: |███████████████████████████████████████████████| 100%\n"
     ]
    }
   ],
   "source": [
    "# Run GBM\n",
    "gbm_model = H2OGradientBoostingEstimator(distribution = \"gaussian\", ntrees=100, learn_rate=.01)\n",
    "gbm_model.train(x=list(range(0,train.ncol - 1)), y=\"count\", training_frame=train, validation_frame=train)"
   ]
  },
  {
   "cell_type": "code",
   "execution_count": 9,
   "metadata": {},
   "outputs": [
    {
     "name": "stdout",
     "output_type": "stream",
     "text": [
      "glm Model Build progress: |███████████████████████████████████████████████| 100%\n"
     ]
    }
   ],
   "source": [
    "# Run GLM\n",
    "glm_model = H2OGeneralizedLinearEstimator(family= \"gaussian\", lambda_ = 0, compute_p_values = True)\n",
    "glm_model.train(x=list(range(0,train.ncol - 1)), y=\"count\", training_frame=train, validation_frame=train)\n"
   ]
  },
  {
   "cell_type": "code",
   "execution_count": 10,
   "metadata": {},
   "outputs": [
    {
     "name": "stdout",
     "output_type": "stream",
     "text": [
      "AutoML progress: |████████████████████████████████████████████████████████| 100%\n"
     ]
    }
   ],
   "source": [
    "# Run AutoML\n",
    "x = train.columns\n",
    "y = \"count\"\n",
    "x.remove(y)\n",
    "aml = H2OAutoML(max_runtime_secs = 30, seed = seed)\n",
    "aml.train(x = x, y = y,\n",
    "          training_frame = train,\n",
    "          validation_frame = valid,\n",
    "          leaderboard_frame = test)"
   ]
  },
  {
   "cell_type": "code",
   "execution_count": 11,
   "metadata": {},
   "outputs": [
    {
     "name": "stdout",
     "output_type": "stream",
     "text": [
      "RMSE (root mean squared error) for each algorithm\n",
      "gbm = 146.69, glm = 147.68, autoML = 140.03\n",
      "\n"
     ]
    },
    {
     "data": {
      "text/html": [
       "<table>\n",
       "<thead>\n",
       "<tr><th>model_id                                             </th><th style=\"text-align: right;\">  mean_residual_deviance</th><th style=\"text-align: right;\">   rmse</th><th style=\"text-align: right;\">    mse</th><th style=\"text-align: right;\">    mae</th><th style=\"text-align: right;\">  rmsle</th></tr>\n",
       "</thead>\n",
       "<tbody>\n",
       "<tr><td>StackedEnsemble_AllModels_0_AutoML_20181015_114922   </td><td style=\"text-align: right;\">                 19610.3</td><td style=\"text-align: right;\">140.037</td><td style=\"text-align: right;\">19610.3</td><td style=\"text-align: right;\">103.245</td><td style=\"text-align: right;\">1.27023</td></tr>\n",
       "<tr><td>StackedEnsemble_BestOfFamily_0_AutoML_20181015_114922</td><td style=\"text-align: right;\">                 19685  </td><td style=\"text-align: right;\">140.303</td><td style=\"text-align: right;\">19685  </td><td style=\"text-align: right;\">103.49 </td><td style=\"text-align: right;\">1.27134</td></tr>\n",
       "<tr><td>GBM_grid_0_AutoML_20181015_114922_model_0            </td><td style=\"text-align: right;\">                 19687.4</td><td style=\"text-align: right;\">140.312</td><td style=\"text-align: right;\">19687.4</td><td style=\"text-align: right;\">104.908</td><td style=\"text-align: right;\">1.29589</td></tr>\n",
       "<tr><td>GBM_grid_0_AutoML_20181015_114922_model_1            </td><td style=\"text-align: right;\">                 19711.5</td><td style=\"text-align: right;\">140.398</td><td style=\"text-align: right;\">19711.5</td><td style=\"text-align: right;\">105.059</td><td style=\"text-align: right;\">1.29849</td></tr>\n",
       "<tr><td>GBM_grid_0_AutoML_20181015_114922_model_4            </td><td style=\"text-align: right;\">                 19799.4</td><td style=\"text-align: right;\">140.71 </td><td style=\"text-align: right;\">19799.4</td><td style=\"text-align: right;\">105.459</td><td style=\"text-align: right;\">1.29855</td></tr>\n",
       "<tr><td>GBM_grid_0_AutoML_20181015_114922_model_2            </td><td style=\"text-align: right;\">                 19804.6</td><td style=\"text-align: right;\">140.729</td><td style=\"text-align: right;\">19804.6</td><td style=\"text-align: right;\">105.23 </td><td style=\"text-align: right;\">1.28894</td></tr>\n",
       "<tr><td>GBM_grid_0_AutoML_20181015_114922_model_3            </td><td style=\"text-align: right;\">                 20075.5</td><td style=\"text-align: right;\">141.688</td><td style=\"text-align: right;\">20075.5</td><td style=\"text-align: right;\">105.173</td><td style=\"text-align: right;\">1.28516</td></tr>\n",
       "<tr><td>XRT_0_AutoML_20181015_114922                         </td><td style=\"text-align: right;\">                 20444.2</td><td style=\"text-align: right;\">142.983</td><td style=\"text-align: right;\">20444.2</td><td style=\"text-align: right;\">104.596</td><td style=\"text-align: right;\">1.28861</td></tr>\n",
       "<tr><td>GBM_grid_0_AutoML_20181015_114922_model_5            </td><td style=\"text-align: right;\">                 20844.9</td><td style=\"text-align: right;\">144.378</td><td style=\"text-align: right;\">20844.9</td><td style=\"text-align: right;\">111.035</td><td style=\"text-align: right;\">1.40468</td></tr>\n",
       "<tr><td>DRF_0_AutoML_20181015_114922                         </td><td style=\"text-align: right;\">                 21210.3</td><td style=\"text-align: right;\">145.638</td><td style=\"text-align: right;\">21210.3</td><td style=\"text-align: right;\">106.397</td><td style=\"text-align: right;\">1.27878</td></tr>\n",
       "</tbody>\n",
       "</table>"
      ]
     },
     "metadata": {},
     "output_type": "display_data"
    },
    {
     "data": {
      "text/plain": []
     },
     "execution_count": 11,
     "metadata": {},
     "output_type": "execute_result"
    }
   ],
   "source": [
    "# Get the metrics for the different techniques\n",
    "gbm_metrics = gbm_model.model_performance(test)\n",
    "glm_metrics = glm_model.model_performance(test)\n",
    "lb = aml.leaderboard\n",
    "aml_leader_metrics = aml.leader.model_performance(test)\n",
    "\n",
    "p = 100 # for display\n",
    "print('RMSE (root mean squared error) for each algorithm')\n",
    "print(f\"gbm = {int(gbm_metrics['RMSE']*p)/p}, glm = {int(glm_metrics['RMSE']*p)/p}, autoML = {int(aml_leader_metrics['RMSE']*p)/p}\")\n",
    "print('')\n",
    "lb"
   ]
  },
  {
   "cell_type": "code",
   "execution_count": 12,
   "metadata": {},
   "outputs": [
    {
     "name": "stdout",
     "output_type": "stream",
     "text": [
      "Parse progress: |█████████████████████████████████████████████████████████| 100%\n",
      "stackedensemble prediction progress: |████████████████████████████████████| 100%\n"
     ]
    }
   ],
   "source": [
    "# Now, try to make some predictions!\n",
    "\n",
    "raw_inputs = h2o.import_file(path=_locate(\"test.csv\"))\n",
    "preprocessed_inputs = preprocess(raw_inputs)\n",
    "preds = aml.leader.predict(preprocessed_inputs)"
   ]
  },
  {
   "cell_type": "code",
   "execution_count": 13,
   "metadata": {},
   "outputs": [
    {
     "data": {
      "text/html": [
       "<table>\n",
       "<thead>\n",
       "<tr><th style=\"text-align: right;\">  season</th><th style=\"text-align: right;\">  holiday</th><th style=\"text-align: right;\">  workingday</th><th style=\"text-align: right;\">  weather</th><th style=\"text-align: right;\">  temp</th><th style=\"text-align: right;\">  atemp</th><th style=\"text-align: right;\">  humidity</th><th style=\"text-align: right;\">  windspeed</th><th>datetime           </th><th style=\"text-align: right;\">  season0</th><th style=\"text-align: right;\">  holiday0</th><th style=\"text-align: right;\">  workingday0</th><th style=\"text-align: right;\">  weather0</th><th style=\"text-align: right;\">  temp0</th><th style=\"text-align: right;\">  atemp0</th><th style=\"text-align: right;\">  humidity0</th><th style=\"text-align: right;\">  windspeed0</th><th>dayofweek  </th><th style=\"text-align: right;\">  dayofmonth</th><th style=\"text-align: right;\">  hourofday</th><th style=\"text-align: right;\">  year</th><th style=\"text-align: right;\">  month</th></tr>\n",
       "</thead>\n",
       "<tbody>\n",
       "<tr><td style=\"text-align: right;\">       1</td><td style=\"text-align: right;\">        0</td><td style=\"text-align: right;\">           1</td><td style=\"text-align: right;\">        1</td><td style=\"text-align: right;\"> 10.66</td><td style=\"text-align: right;\"> 11.365</td><td style=\"text-align: right;\">        56</td><td style=\"text-align: right;\">    26.0027</td><td>2011-01-20 00:00:00</td><td style=\"text-align: right;\">        1</td><td style=\"text-align: right;\">         0</td><td style=\"text-align: right;\">            1</td><td style=\"text-align: right;\">         1</td><td style=\"text-align: right;\">  10.66</td><td style=\"text-align: right;\">  11.365</td><td style=\"text-align: right;\">         56</td><td style=\"text-align: right;\">     26.0027</td><td>Thu        </td><td style=\"text-align: right;\">          20</td><td style=\"text-align: right;\">          0</td><td style=\"text-align: right;\">  2011</td><td style=\"text-align: right;\">      1</td></tr>\n",
       "<tr><td style=\"text-align: right;\">       1</td><td style=\"text-align: right;\">        0</td><td style=\"text-align: right;\">           1</td><td style=\"text-align: right;\">        1</td><td style=\"text-align: right;\"> 10.66</td><td style=\"text-align: right;\"> 13.635</td><td style=\"text-align: right;\">        56</td><td style=\"text-align: right;\">     0     </td><td>2011-01-20 01:00:00</td><td style=\"text-align: right;\">        1</td><td style=\"text-align: right;\">         0</td><td style=\"text-align: right;\">            1</td><td style=\"text-align: right;\">         1</td><td style=\"text-align: right;\">  10.66</td><td style=\"text-align: right;\">  13.635</td><td style=\"text-align: right;\">         56</td><td style=\"text-align: right;\">      0     </td><td>Thu        </td><td style=\"text-align: right;\">          20</td><td style=\"text-align: right;\">          1</td><td style=\"text-align: right;\">  2011</td><td style=\"text-align: right;\">      1</td></tr>\n",
       "<tr><td style=\"text-align: right;\">       1</td><td style=\"text-align: right;\">        0</td><td style=\"text-align: right;\">           1</td><td style=\"text-align: right;\">        1</td><td style=\"text-align: right;\"> 10.66</td><td style=\"text-align: right;\"> 13.635</td><td style=\"text-align: right;\">        56</td><td style=\"text-align: right;\">     0     </td><td>2011-01-20 02:00:00</td><td style=\"text-align: right;\">        1</td><td style=\"text-align: right;\">         0</td><td style=\"text-align: right;\">            1</td><td style=\"text-align: right;\">         1</td><td style=\"text-align: right;\">  10.66</td><td style=\"text-align: right;\">  13.635</td><td style=\"text-align: right;\">         56</td><td style=\"text-align: right;\">      0     </td><td>Thu        </td><td style=\"text-align: right;\">          20</td><td style=\"text-align: right;\">          2</td><td style=\"text-align: right;\">  2011</td><td style=\"text-align: right;\">      1</td></tr>\n",
       "<tr><td style=\"text-align: right;\">       1</td><td style=\"text-align: right;\">        0</td><td style=\"text-align: right;\">           1</td><td style=\"text-align: right;\">        1</td><td style=\"text-align: right;\"> 10.66</td><td style=\"text-align: right;\"> 12.88 </td><td style=\"text-align: right;\">        56</td><td style=\"text-align: right;\">    11.0014</td><td>2011-01-20 03:00:00</td><td style=\"text-align: right;\">        1</td><td style=\"text-align: right;\">         0</td><td style=\"text-align: right;\">            1</td><td style=\"text-align: right;\">         1</td><td style=\"text-align: right;\">  10.66</td><td style=\"text-align: right;\">  12.88 </td><td style=\"text-align: right;\">         56</td><td style=\"text-align: right;\">     11.0014</td><td>Thu        </td><td style=\"text-align: right;\">          20</td><td style=\"text-align: right;\">          3</td><td style=\"text-align: right;\">  2011</td><td style=\"text-align: right;\">      1</td></tr>\n",
       "<tr><td style=\"text-align: right;\">       1</td><td style=\"text-align: right;\">        0</td><td style=\"text-align: right;\">           1</td><td style=\"text-align: right;\">        1</td><td style=\"text-align: right;\"> 10.66</td><td style=\"text-align: right;\"> 12.88 </td><td style=\"text-align: right;\">        56</td><td style=\"text-align: right;\">    11.0014</td><td>2011-01-20 04:00:00</td><td style=\"text-align: right;\">        1</td><td style=\"text-align: right;\">         0</td><td style=\"text-align: right;\">            1</td><td style=\"text-align: right;\">         1</td><td style=\"text-align: right;\">  10.66</td><td style=\"text-align: right;\">  12.88 </td><td style=\"text-align: right;\">         56</td><td style=\"text-align: right;\">     11.0014</td><td>Thu        </td><td style=\"text-align: right;\">          20</td><td style=\"text-align: right;\">          4</td><td style=\"text-align: right;\">  2011</td><td style=\"text-align: right;\">      1</td></tr>\n",
       "<tr><td style=\"text-align: right;\">       1</td><td style=\"text-align: right;\">        0</td><td style=\"text-align: right;\">           1</td><td style=\"text-align: right;\">        1</td><td style=\"text-align: right;\">  9.84</td><td style=\"text-align: right;\"> 11.365</td><td style=\"text-align: right;\">        60</td><td style=\"text-align: right;\">    15.0013</td><td>2011-01-20 05:00:00</td><td style=\"text-align: right;\">        1</td><td style=\"text-align: right;\">         0</td><td style=\"text-align: right;\">            1</td><td style=\"text-align: right;\">         1</td><td style=\"text-align: right;\">   9.84</td><td style=\"text-align: right;\">  11.365</td><td style=\"text-align: right;\">         60</td><td style=\"text-align: right;\">     15.0013</td><td>Thu        </td><td style=\"text-align: right;\">          20</td><td style=\"text-align: right;\">          5</td><td style=\"text-align: right;\">  2011</td><td style=\"text-align: right;\">      1</td></tr>\n",
       "<tr><td style=\"text-align: right;\">       1</td><td style=\"text-align: right;\">        0</td><td style=\"text-align: right;\">           1</td><td style=\"text-align: right;\">        1</td><td style=\"text-align: right;\">  9.02</td><td style=\"text-align: right;\"> 10.605</td><td style=\"text-align: right;\">        60</td><td style=\"text-align: right;\">    15.0013</td><td>2011-01-20 06:00:00</td><td style=\"text-align: right;\">        1</td><td style=\"text-align: right;\">         0</td><td style=\"text-align: right;\">            1</td><td style=\"text-align: right;\">         1</td><td style=\"text-align: right;\">   9.02</td><td style=\"text-align: right;\">  10.605</td><td style=\"text-align: right;\">         60</td><td style=\"text-align: right;\">     15.0013</td><td>Thu        </td><td style=\"text-align: right;\">          20</td><td style=\"text-align: right;\">          6</td><td style=\"text-align: right;\">  2011</td><td style=\"text-align: right;\">      1</td></tr>\n",
       "<tr><td style=\"text-align: right;\">       1</td><td style=\"text-align: right;\">        0</td><td style=\"text-align: right;\">           1</td><td style=\"text-align: right;\">        1</td><td style=\"text-align: right;\">  9.02</td><td style=\"text-align: right;\"> 10.605</td><td style=\"text-align: right;\">        55</td><td style=\"text-align: right;\">    15.0013</td><td>2011-01-20 07:00:00</td><td style=\"text-align: right;\">        1</td><td style=\"text-align: right;\">         0</td><td style=\"text-align: right;\">            1</td><td style=\"text-align: right;\">         1</td><td style=\"text-align: right;\">   9.02</td><td style=\"text-align: right;\">  10.605</td><td style=\"text-align: right;\">         55</td><td style=\"text-align: right;\">     15.0013</td><td>Thu        </td><td style=\"text-align: right;\">          20</td><td style=\"text-align: right;\">          7</td><td style=\"text-align: right;\">  2011</td><td style=\"text-align: right;\">      1</td></tr>\n",
       "<tr><td style=\"text-align: right;\">       1</td><td style=\"text-align: right;\">        0</td><td style=\"text-align: right;\">           1</td><td style=\"text-align: right;\">        1</td><td style=\"text-align: right;\">  9.02</td><td style=\"text-align: right;\"> 10.605</td><td style=\"text-align: right;\">        55</td><td style=\"text-align: right;\">    19.0012</td><td>2011-01-20 08:00:00</td><td style=\"text-align: right;\">        1</td><td style=\"text-align: right;\">         0</td><td style=\"text-align: right;\">            1</td><td style=\"text-align: right;\">         1</td><td style=\"text-align: right;\">   9.02</td><td style=\"text-align: right;\">  10.605</td><td style=\"text-align: right;\">         55</td><td style=\"text-align: right;\">     19.0012</td><td>Thu        </td><td style=\"text-align: right;\">          20</td><td style=\"text-align: right;\">          8</td><td style=\"text-align: right;\">  2011</td><td style=\"text-align: right;\">      1</td></tr>\n",
       "<tr><td style=\"text-align: right;\">       1</td><td style=\"text-align: right;\">        0</td><td style=\"text-align: right;\">           1</td><td style=\"text-align: right;\">        2</td><td style=\"text-align: right;\">  9.84</td><td style=\"text-align: right;\"> 11.365</td><td style=\"text-align: right;\">        52</td><td style=\"text-align: right;\">    15.0013</td><td>2011-01-20 09:00:00</td><td style=\"text-align: right;\">        1</td><td style=\"text-align: right;\">         0</td><td style=\"text-align: right;\">            1</td><td style=\"text-align: right;\">         2</td><td style=\"text-align: right;\">   9.84</td><td style=\"text-align: right;\">  11.365</td><td style=\"text-align: right;\">         52</td><td style=\"text-align: right;\">     15.0013</td><td>Thu        </td><td style=\"text-align: right;\">          20</td><td style=\"text-align: right;\">          9</td><td style=\"text-align: right;\">  2011</td><td style=\"text-align: right;\">      1</td></tr>\n",
       "</tbody>\n",
       "</table>"
      ]
     },
     "metadata": {},
     "output_type": "display_data"
    },
    {
     "data": {
      "image/png": "[encoded data removed]",
      "text/plain": [
       "<Figure size 432x288 with 1 Axes>"
      ]
     },
     "metadata": {
      "needs_background": "light"
     },
     "output_type": "display_data"
    }
   ],
   "source": [
    "# now, display the predictions\n",
    "raw_inputs['dayofweek'] = raw_inputs['datetime'].dayOfWeek().asfactor()\n",
    "raw_inputs['dayofmonth'] = raw_inputs['datetime'].day().asfactor()\n",
    "raw_inputs['hourofday'] = raw_inputs['datetime'].hour().asfactor()\n",
    "raw_inputs['year'] = raw_inputs['datetime'].year().asfactor()\n",
    "raw_inputs['month'] = raw_inputs['datetime'].month().asfactor()\n",
    "\n",
    "table_with_predictions = preprocessed_inputs.concat(raw_inputs, preds)\n",
    "table_with_predictions.show()\n",
    "\n",
    "\n",
    "table = np.transpose(np.array(table_with_predictions.as_data_frame(use_pandas=False, header=False)))\n",
    "y = table[13] # predictions\n",
    "table2 = np.transpose(np.array(raw_inputs.as_data_frame(use_pandas=False, header=False)))\n",
    "x = table2[0]\n",
    "\n",
    "\n",
    "# plot first 2 weeks of predictions\n",
    "plt.plot(x[0:336], y[0:336])\n",
    "plt.axis('off')\n",
    "plt.show()\n"
   ]
  },
  {
   "cell_type": "code",
   "execution_count": null,
   "metadata": {},
   "outputs": [],
   "source": []
  }
 ],
 "metadata": {
  "kernelspec": {
   "display_name": "Python [conda env:bike-ml]",
   "language": "python",
   "name": "conda-env-bike-ml-py"
  },
  "language_info": {
   "codemirror_mode": {
    "name": "ipython",
    "version": 3
   },
   "file_extension": ".py",
   "mimetype": "text/x-python",
   "name": "python",
   "nbconvert_exporter": "python",
   "pygments_lexer": "ipython3",
   "version": "3.7.0"
  }
 },
 "nbformat": 4,
 "nbformat_minor": 1
}
